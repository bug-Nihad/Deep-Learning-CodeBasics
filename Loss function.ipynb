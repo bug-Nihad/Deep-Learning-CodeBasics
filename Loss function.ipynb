{
 "cells": [
  {
   "cell_type": "code",
   "execution_count": 45,
   "metadata": {},
   "outputs": [],
   "source": [
    "import numpy as np\n",
    "y_predicted = np.array([1, .9, .8, .6])\n",
    "y_true = np.array([.8, .7, 1, 1])"
   ]
  },
  {
   "cell_type": "code",
   "execution_count": 49,
   "metadata": {},
   "outputs": [],
   "source": [
    "def mean_abs_error(y_predicted, y_true):\n",
    "    total_error = 0\n",
    "    for yp, yt in zip(y_predicted, y_true):\n",
    "        total_error += abs(yp-yt)\n",
    "    mae = total_error/len(y_predicted)\n",
    "    return(mae)\n",
    "def mean_squared_error(y_predicted, y_true):\n",
    "    '''\n",
    "    total_error = 0\n",
    "    for yp, yt in zip(y_predicted, y_true):\n",
    "        total_error += (yp-yt)**2\n",
    "    mse = total_error/len(y_predicted)\n",
    "    return(mse)\n",
    "    '''\n",
    "    return np.mean(np.square(y_predicted-y_true))\n",
    "\n",
    "def binary_cross_entropy(y_predicted, y_true):\n",
    "    total_error = 0\n",
    "    for yp, yt in zip(y_predicted, y_true):\n",
    "        if yp == 0:\n",
    "            yp = 1e-15\n",
    "        elif yp == 1:\n",
    "            yp = 1 - 1e-15\n",
    "        total_error += yt*np.log(yp) + (1-yt)*np.log(1-yp)\n",
    "    bce_loss = total_error/(-len(y_true))\n",
    "    return(bce_loss)"
   ]
  },
  {
   "cell_type": "code",
   "execution_count": 53,
   "metadata": {},
   "outputs": [
    {
     "name": "stdout",
     "output_type": "stream",
     "text": [
      "2.101603065601767\n",
      "0.07\n",
      "0.25\n"
     ]
    }
   ],
   "source": [
    "print(binary_cross_entropy(y_predicted, y_true))\n",
    "print(mean_squared_error(y_predicted, y_true))\n",
    "print(mean_abs_error(y_predicted, y_true))\n",
    "# mean_squared_error(y_predicted, y_true)"
   ]
  }
 ],
 "metadata": {
  "kernelspec": {
   "display_name": "Python 3",
   "language": "python",
   "name": "python3"
  },
  "language_info": {
   "codemirror_mode": {
    "name": "ipython",
    "version": 3
   },
   "file_extension": ".py",
   "mimetype": "text/x-python",
   "name": "python",
   "nbconvert_exporter": "python",
   "pygments_lexer": "ipython3",
   "version": "3.9.0"
  },
  "orig_nbformat": 4,
  "vscode": {
   "interpreter": {
    "hash": "8bc0295d3e35c12602cb77450337f13d6dc78e35e6180f390052e59462a633dc"
   }
  }
 },
 "nbformat": 4,
 "nbformat_minor": 2
}
